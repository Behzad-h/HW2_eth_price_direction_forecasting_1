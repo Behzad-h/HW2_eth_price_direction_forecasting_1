{
 "cells": [
  {
   "cell_type": "markdown",
   "metadata": {},
   "source": [
    "# Ethereum Price Change Direction Forecasting\n",
    "In this project, we aim at forecasting the direction of the price change of Ethereum. We extract the historical data (daily values) of ETH prices from the Yahoo Finance repository, preprocess the data, and fit a simple logistic regression model over the data. In the preprocessing stage, we extract the direction of the ETH price change (increase, decrease, or fixed) on each day. So, we are dealing with a classification problem. We also implement a window generation function to be able to forecast the next day's price change direction based on the previously recorded data."
   ]
  },
  {
   "cell_type": "code",
   "execution_count": 1,
   "metadata": {},
   "outputs": [],
   "source": [
    "import pandas as pd\n",
    "import numpy as np\n",
    "import datetime as dt\n",
    "import yfinance as yf\n",
    "import matplotlib.pyplot as plt\n",
    "import sklearn.preprocessing as pp\n",
    "import sklearn.linear_model as lm\n",
    "import sklearn.metrics as met\n",
    "import sklearn.dummy as dm\n",
    "\n",
    "np.random.seed(0)"
   ]
  },
  {
   "cell_type": "markdown",
   "metadata": {},
   "source": [
    "### 1. Data Extraction\n",
    "Extracting the historical data for daily prices of ETH:"
   ]
  },
  {
   "cell_type": "code",
   "execution_count": 2,
   "metadata": {},
   "outputs": [
    {
     "name": "stdout",
     "output_type": "stream",
     "text": [
      "[*********************100%***********************]  1 of 1 completed\n"
     ]
    }
   ],
   "source": [
    "Ticker = 'ETH-USD'\n",
    "Interval = '1d'\n",
    "Period = 'max'\n",
    "\n",
    "data_full = yf.download(tickers=Ticker, interval=Interval, period=Period)"
   ]
  },
  {
   "cell_type": "code",
   "execution_count": 3,
   "metadata": {},
   "outputs": [
    {
     "data": {
      "text/html": [
       "<div>\n",
       "<style scoped>\n",
       "    .dataframe tbody tr th:only-of-type {\n",
       "        vertical-align: middle;\n",
       "    }\n",
       "\n",
       "    .dataframe tbody tr th {\n",
       "        vertical-align: top;\n",
       "    }\n",
       "\n",
       "    .dataframe thead th {\n",
       "        text-align: right;\n",
       "    }\n",
       "</style>\n",
       "<table border=\"1\" class=\"dataframe\">\n",
       "  <thead>\n",
       "    <tr style=\"text-align: right;\">\n",
       "      <th></th>\n",
       "      <th>Open</th>\n",
       "      <th>High</th>\n",
       "      <th>Low</th>\n",
       "      <th>Close</th>\n",
       "      <th>Adj Close</th>\n",
       "      <th>Volume</th>\n",
       "    </tr>\n",
       "    <tr>\n",
       "      <th>Date</th>\n",
       "      <th></th>\n",
       "      <th></th>\n",
       "      <th></th>\n",
       "      <th></th>\n",
       "      <th></th>\n",
       "      <th></th>\n",
       "    </tr>\n",
       "  </thead>\n",
       "  <tbody>\n",
       "    <tr>\n",
       "      <th>2017-11-09</th>\n",
       "      <td>308.644989</td>\n",
       "      <td>329.451996</td>\n",
       "      <td>307.056000</td>\n",
       "      <td>320.884003</td>\n",
       "      <td>320.884003</td>\n",
       "      <td>893249984</td>\n",
       "    </tr>\n",
       "    <tr>\n",
       "      <th>2017-11-10</th>\n",
       "      <td>320.670990</td>\n",
       "      <td>324.717987</td>\n",
       "      <td>294.541992</td>\n",
       "      <td>299.252991</td>\n",
       "      <td>299.252991</td>\n",
       "      <td>885985984</td>\n",
       "    </tr>\n",
       "    <tr>\n",
       "      <th>2017-11-11</th>\n",
       "      <td>298.585999</td>\n",
       "      <td>319.453003</td>\n",
       "      <td>298.191986</td>\n",
       "      <td>314.681000</td>\n",
       "      <td>314.681000</td>\n",
       "      <td>842300992</td>\n",
       "    </tr>\n",
       "  </tbody>\n",
       "</table>\n",
       "</div>"
      ],
      "text/plain": [
       "                  Open        High         Low       Close   Adj Close  \\\n",
       "Date                                                                     \n",
       "2017-11-09  308.644989  329.451996  307.056000  320.884003  320.884003   \n",
       "2017-11-10  320.670990  324.717987  294.541992  299.252991  299.252991   \n",
       "2017-11-11  298.585999  319.453003  298.191986  314.681000  314.681000   \n",
       "\n",
       "               Volume  \n",
       "Date                   \n",
       "2017-11-09  893249984  \n",
       "2017-11-10  885985984  \n",
       "2017-11-11  842300992  "
      ]
     },
     "execution_count": 3,
     "metadata": {},
     "output_type": "execute_result"
    }
   ],
   "source": [
    "data_full.head(3)"
   ]
  },
  {
   "cell_type": "code",
   "execution_count": 4,
   "metadata": {},
   "outputs": [
    {
     "data": {
      "text/html": [
       "<div>\n",
       "<style scoped>\n",
       "    .dataframe tbody tr th:only-of-type {\n",
       "        vertical-align: middle;\n",
       "    }\n",
       "\n",
       "    .dataframe tbody tr th {\n",
       "        vertical-align: top;\n",
       "    }\n",
       "\n",
       "    .dataframe thead th {\n",
       "        text-align: right;\n",
       "    }\n",
       "</style>\n",
       "<table border=\"1\" class=\"dataframe\">\n",
       "  <thead>\n",
       "    <tr style=\"text-align: right;\">\n",
       "      <th></th>\n",
       "      <th>Open</th>\n",
       "      <th>High</th>\n",
       "      <th>Low</th>\n",
       "      <th>Close</th>\n",
       "      <th>Adj Close</th>\n",
       "      <th>Volume</th>\n",
       "    </tr>\n",
       "    <tr>\n",
       "      <th>Date</th>\n",
       "      <th></th>\n",
       "      <th></th>\n",
       "      <th></th>\n",
       "      <th></th>\n",
       "      <th></th>\n",
       "      <th></th>\n",
       "    </tr>\n",
       "  </thead>\n",
       "  <tbody>\n",
       "    <tr>\n",
       "      <th>2022-08-03</th>\n",
       "      <td>1633.051270</td>\n",
       "      <td>1678.098267</td>\n",
       "      <td>1595.634521</td>\n",
       "      <td>1618.874512</td>\n",
       "      <td>1618.874512</td>\n",
       "      <td>16786218830</td>\n",
       "    </tr>\n",
       "    <tr>\n",
       "      <th>2022-08-04</th>\n",
       "      <td>1618.886719</td>\n",
       "      <td>1658.511597</td>\n",
       "      <td>1585.326538</td>\n",
       "      <td>1608.205811</td>\n",
       "      <td>1608.205811</td>\n",
       "      <td>14467440626</td>\n",
       "    </tr>\n",
       "    <tr>\n",
       "      <th>2022-08-05</th>\n",
       "      <td>1606.497070</td>\n",
       "      <td>1663.916504</td>\n",
       "      <td>1606.497070</td>\n",
       "      <td>1656.268677</td>\n",
       "      <td>1656.268677</td>\n",
       "      <td>15211467776</td>\n",
       "    </tr>\n",
       "  </tbody>\n",
       "</table>\n",
       "</div>"
      ],
      "text/plain": [
       "                   Open         High          Low        Close    Adj Close  \\\n",
       "Date                                                                          \n",
       "2022-08-03  1633.051270  1678.098267  1595.634521  1618.874512  1618.874512   \n",
       "2022-08-04  1618.886719  1658.511597  1585.326538  1608.205811  1608.205811   \n",
       "2022-08-05  1606.497070  1663.916504  1606.497070  1656.268677  1656.268677   \n",
       "\n",
       "                 Volume  \n",
       "Date                     \n",
       "2022-08-03  16786218830  \n",
       "2022-08-04  14467440626  \n",
       "2022-08-05  15211467776  "
      ]
     },
     "execution_count": 4,
     "metadata": {},
     "output_type": "execute_result"
    }
   ],
   "source": [
    "data_full.tail(3)"
   ]
  },
  {
   "cell_type": "markdown",
   "metadata": {},
   "source": [
    "### 2. Data Preprocessing"
   ]
  },
  {
   "cell_type": "markdown",
   "metadata": {},
   "source": [
    "Calculating the ETH price change rate (PCR) in percentage on each day:"
   ]
  },
  {
   "cell_type": "code",
   "execution_count": 5,
   "metadata": {},
   "outputs": [],
   "source": [
    "data_full['PCR'] = 100 * (data_full['Close'] - data_full['Open'])/data_full['Open']"
   ]
  },
  {
   "cell_type": "code",
   "execution_count": 6,
   "metadata": {},
   "outputs": [
    {
     "data": {
      "text/plain": [
       "Text(0, 0.5, 'ETH PCR (%)')"
      ]
     },
     "execution_count": 6,
     "metadata": {},
     "output_type": "execute_result"
    },
    {
     "data": {
      "image/png": "[encoded data removed]",
      "text/plain": [
       "<Figure size 936x144 with 1 Axes>"
      ]
     },
     "metadata": {
      "needs_background": "light"
     },
     "output_type": "display_data"
    }
   ],
   "source": [
    "# plotting the line graph of PCR\n",
    "plt.figure(figsize=(13,2))\n",
    "plt.plot(data_full['PCR'])\n",
    "plt.xlabel('Time (day)')\n",
    "plt.ylabel('ETH PCR (%)')"
   ]
  },
  {
   "cell_type": "code",
   "execution_count": 7,
   "metadata": {},
   "outputs": [
    {
     "data": {
      "image/png": "[encoded data removed]",
      "text/plain": [
       "<Figure size 432x288 with 1 Axes>"
      ]
     },
     "metadata": {
      "needs_background": "light"
     },
     "output_type": "display_data"
    }
   ],
   "source": [
    "# plotting the histogram graph of PCR\n",
    "plt.hist(data_full['PCR'], bins=40)\n",
    "plt.title('ETH-USD Relative Price Change Rate')\n",
    "plt.xlabel('Change Rate (%)')\n",
    "plt.ylabel('Frequency')\n",
    "plt.show()"
   ]
  },
  {
   "cell_type": "markdown",
   "metadata": {},
   "source": [
    "It has a normal distribution. We use interquartile range to bound the PCR values between the first and the third quartiles. "
   ]
  },
  {
   "cell_type": "code",
   "execution_count": 8,
   "metadata": {},
   "outputs": [],
   "source": [
    "quartile_1 = data_full['PCR'].quantile(0.25)\n",
    "quartile_3 = data_full['PCR'].quantile(0.75)\n",
    "IQR = quartile_3 - quartile_1 # inter quartile range\n",
    "lower_bound = quartile_1 - 2 * IQR\n",
    "upper_bound = quartile_3 + 2 * IQR\n",
    "\n",
    "# applying to the PCR data\n",
    "data_full['PCR'] = data_full['PCR'].clip(lower=lower_bound, upper=upper_bound)"
   ]
  },
  {
   "cell_type": "markdown",
   "metadata": {},
   "source": [
    "we plot the histogram graph again:"
   ]
  },
  {
   "cell_type": "code",
   "execution_count": 9,
   "metadata": {},
   "outputs": [
    {
     "data": {
      "image/png": "[encoded data removed]",
      "text/plain": [
       "<Figure size 432x288 with 1 Axes>"
      ]
     },
     "metadata": {
      "needs_background": "light"
     },
     "output_type": "display_data"
    }
   ],
   "source": [
    "# plotting the histogram graph of PCR\n",
    "plt.hist(data_full['PCR'], bins=40)\n",
    "plt.title('ETH-USD Relative Price Change Rate')\n",
    "plt.xlabel('Change Rate (%)')\n",
    "plt.ylabel('Frequency')\n",
    "plt.show()"
   ]
  },
  {
   "cell_type": "markdown",
   "metadata": {},
   "source": [
    "We can also use other outlier detection and removal methods so that we do not have the current data accumulation at both the lower and upper bounds, as can be seen in the above graph."
   ]
  },
  {
   "cell_type": "markdown",
   "metadata": {},
   "source": [
    "We generate data windows using a Lag function which is defined as follows:"
   ]
  },
  {
   "cell_type": "code",
   "execution_count": 10,
   "metadata": {},
   "outputs": [],
   "source": [
    "def Lag(data, input_width):\n",
    "    window_number = data.size - input_width\n",
    "    X = np.zeros((window_number, input_width))\n",
    "    Y = np.zeros((window_number, 1))\n",
    "    for i in range(window_number):\n",
    "        X[i,:] = data[i:i+input_width] # input\n",
    "        Y[i,0] = data[i+input_width] # target\n",
    "    return X, Y"
   ]
  },
  {
   "cell_type": "code",
   "execution_count": 11,
   "metadata": {},
   "outputs": [
    {
     "data": {
      "text/plain": [
       "((1701, 30), (1701, 1))"
      ]
     },
     "execution_count": 11,
     "metadata": {},
     "output_type": "execute_result"
    }
   ],
   "source": [
    "X0, Y0 = Lag(data=data_full['PCR'], input_width=30)\n",
    "X0.shape, Y0.shape"
   ]
  },
  {
   "cell_type": "markdown",
   "metadata": {},
   "source": [
    "We split the data into train and test sets as follows:"
   ]
  },
  {
   "cell_type": "code",
   "execution_count": 12,
   "metadata": {},
   "outputs": [
    {
     "data": {
      "text/plain": [
       "(((1384, 30), (1384, 1)), ((317, 30), (317, 1)))"
      ]
     },
     "execution_count": 12,
     "metadata": {},
     "output_type": "execute_result"
    }
   ],
   "source": [
    "train_split = 0.8\n",
    "split_num = int(train_split * data_full['PCR'].size)\n",
    "\n",
    "X0_train = X0[:split_num]\n",
    "Y0_train = Y0[:split_num]\n",
    "X0_test = X0[split_num:]\n",
    "Y0_test = Y0[split_num:]\n",
    "\n",
    "(X0_train.shape, Y0_train.shape) , (X0_test.shape, Y0_test.shape)"
   ]
  },
  {
   "cell_type": "markdown",
   "metadata": {},
   "source": [
    "We standardize the data based on the training set. We do not scale the target values since they will be converted into labels to show the direction of the price change."
   ]
  },
  {
   "cell_type": "code",
   "execution_count": 13,
   "metadata": {},
   "outputs": [],
   "source": [
    "scale_X = pp.StandardScaler().fit(X0_train)\n",
    "X0_train_std = scale_X.transform(X0_train)\n",
    "X0_test_std = scale_X.transform(X0_test)"
   ]
  },
  {
   "cell_type": "markdown",
   "metadata": {},
   "source": [
    "Since we are going to forecast the direction of the price change, we need to define a discretizer function to assign 3 labels to the data points based on a given threshold. This function is defined as follows:"
   ]
  },
  {
   "cell_type": "code",
   "execution_count": 14,
   "metadata": {},
   "outputs": [],
   "source": [
    "def Discretizer(data, threshold):\n",
    "    output = np.zeros((len(data), 1))\n",
    "    for i in range(len(data)):\n",
    "        if data[i] < -threshold: # decrease\n",
    "            output[i,0] = 0\n",
    "        elif data[i] > +threshold: # increase\n",
    "            output[i,0] = 2\n",
    "        else:\n",
    "            output[i,0] = 1 # fixed\n",
    "    return output"
   ]
  },
  {
   "cell_type": "code",
   "execution_count": 15,
   "metadata": {},
   "outputs": [],
   "source": [
    "TH = 2 # price changes rates (PCR) between -2% and 2% are considered as 0 (no change)\n",
    "Y0_train_label = Discretizer(Y0_train, TH)\n",
    "Y0_test_label = Discretizer(Y0_test, TH)"
   ]
  },
  {
   "cell_type": "code",
   "execution_count": 16,
   "metadata": {},
   "outputs": [
    {
     "name": "stdout",
     "output_type": "stream",
     "text": [
      "(1384, 1) (317, 1)\n"
     ]
    }
   ],
   "source": [
    "print(Y0_train_label.shape, Y0_test_label.shape)"
   ]
  },
  {
   "cell_type": "code",
   "execution_count": 17,
   "metadata": {},
   "outputs": [
    {
     "data": {
      "image/png": "[encoded data removed]",
      "text/plain": [
       "<Figure size 936x144 with 1 Axes>"
      ]
     },
     "metadata": {
      "needs_background": "light"
     },
     "output_type": "display_data"
    }
   ],
   "source": [
    "plt.figure(figsize=(13,2))\n",
    "plt.plot(pd.DataFrame(Y0_train_label), linewidth=0.5, label='train labels')\n",
    "plt.plot(pd.DataFrame(Y0_test_label), linewidth=0.5, label='test labels')\n",
    "plt.legend()\n",
    "plt.show()"
   ]
  },
  {
   "cell_type": "markdown",
   "metadata": {},
   "source": [
    "## 3. Model Training"
   ]
  },
  {
   "cell_type": "markdown",
   "metadata": {},
   "source": [
    "We use a logistic regression model to train our price change direction forecaster."
   ]
  },
  {
   "cell_type": "code",
   "execution_count": 18,
   "metadata": {},
   "outputs": [
    {
     "name": "stderr",
     "output_type": "stream",
     "text": [
      "c:\\Users\\MIO\\.conda\\envs\\envtf\\lib\\site-packages\\sklearn\\utils\\validation.py:993: DataConversionWarning: A column-vector y was passed when a 1d array was expected. Please change the shape of y to (n_samples, ), for example using ravel().\n",
      "  y = column_or_1d(y, warn=True)\n"
     ]
    },
    {
     "data": {
      "text/plain": [
       "LogisticRegression()"
      ]
     },
     "execution_count": 18,
     "metadata": {},
     "output_type": "execute_result"
    }
   ],
   "source": [
    "model_LR = lm.LogisticRegression()\n",
    "model_LR.fit(X0_train_std, Y0_train_label)"
   ]
  },
  {
   "cell_type": "code",
   "execution_count": 19,
   "metadata": {},
   "outputs": [],
   "source": [
    "prediction_train = model_LR.predict(X0_train_std)\n",
    "prediction_test = model_LR.predict(X0_test_std)"
   ]
  },
  {
   "cell_type": "markdown",
   "metadata": {},
   "source": [
    "Evaluating the performance of the model "
   ]
  },
  {
   "cell_type": "code",
   "execution_count": 20,
   "metadata": {},
   "outputs": [
    {
     "name": "stdout",
     "output_type": "stream",
     "text": [
      "Performance of the logistic regression model on the training set:\n",
      "              precision    recall  f1-score   support\n",
      "\n",
      "         0.0       0.41      0.08      0.14       365\n",
      "         1.0       0.47      0.84      0.60       603\n",
      "         2.0       0.43      0.23      0.30       416\n",
      "\n",
      "    accuracy                           0.46      1384\n",
      "   macro avg       0.43      0.39      0.35      1384\n",
      "weighted avg       0.44      0.46      0.39      1384\n",
      "\n",
      "------------------------------------------------------------\n",
      "Performance of the logistic regression model on the test set:\n",
      "              precision    recall  f1-score   support\n",
      "\n",
      "         0.0       0.25      0.04      0.07        98\n",
      "         1.0       0.39      0.83      0.53       128\n",
      "         2.0       0.16      0.05      0.08        91\n",
      "\n",
      "    accuracy                           0.36       317\n",
      "   macro avg       0.27      0.31      0.23       317\n",
      "weighted avg       0.28      0.36      0.26       317\n",
      "\n"
     ]
    }
   ],
   "source": [
    "performance_train = met.classification_report(Y0_train_label, prediction_train)\n",
    "performance_test = met.classification_report(Y0_test_label, prediction_test)\n",
    "\n",
    "print(f'Performance of the logistic regression model on the training set:\\n{performance_train}')\n",
    "print('-'*60)\n",
    "print(f'Performance of the logistic regression model on the test set:\\n{performance_test}')"
   ]
  },
  {
   "cell_type": "markdown",
   "metadata": {},
   "source": [
    "As can be seen in the above results, the performance of the model is not satisfactory. Part of this problem comes from the fact that the dataset is unbalanced. In order to solve this issue, we define separate weights for each class considering the number of data points with the labels of each class in the training set."
   ]
  },
  {
   "cell_type": "markdown",
   "metadata": {},
   "source": [
    "![Weights Calculation](weight_calculation.png)"
   ]
  },
  {
   "cell_type": "code",
   "execution_count": 21,
   "metadata": {},
   "outputs": [],
   "source": [
    "nClass = 3 # number of classes\n",
    "train_size = Y0_train_label.size\n",
    "\n",
    "label_number = {i : Y0_train_label[Y0_train_label == i].size for i in range(nClass)}\n",
    "weights = {i : (train_size - label_number[i])/((nClass - 1) * train_size) for i in range(nClass)}"
   ]
  },
  {
   "cell_type": "code",
   "execution_count": 22,
   "metadata": {},
   "outputs": [
    {
     "name": "stdout",
     "output_type": "stream",
     "text": [
      "{0: 365, 1: 603, 2: 416}\n",
      "{0: 0.368135838150289, 1: 0.28215317919075145, 2: 0.34971098265895956}\n"
     ]
    }
   ],
   "source": [
    "print(label_number)\n",
    "print(weights)"
   ]
  },
  {
   "cell_type": "markdown",
   "metadata": {},
   "source": [
    "We now train a new model using the calculated weights: "
   ]
  },
  {
   "cell_type": "code",
   "execution_count": 23,
   "metadata": {},
   "outputs": [
    {
     "name": "stderr",
     "output_type": "stream",
     "text": [
      "c:\\Users\\MIO\\.conda\\envs\\envtf\\lib\\site-packages\\sklearn\\utils\\validation.py:993: DataConversionWarning: A column-vector y was passed when a 1d array was expected. Please change the shape of y to (n_samples, ), for example using ravel().\n",
      "  y = column_or_1d(y, warn=True)\n"
     ]
    },
    {
     "data": {
      "text/plain": [
       "LogisticRegression(class_weight={0: 0.368135838150289, 1: 0.28215317919075145,\n",
       "                                 2: 0.34971098265895956})"
      ]
     },
     "execution_count": 23,
     "metadata": {},
     "output_type": "execute_result"
    }
   ],
   "source": [
    "model_LR = lm.LogisticRegression(class_weight=weights)\n",
    "model_LR.fit(X0_train_std, Y0_train_label)\n"
   ]
  },
  {
   "cell_type": "code",
   "execution_count": 24,
   "metadata": {},
   "outputs": [
    {
     "name": "stdout",
     "output_type": "stream",
     "text": [
      "Performance of the logistic regression model on the training set:\n",
      "              precision    recall  f1-score   support\n",
      "\n",
      "         0.0       0.40      0.25      0.31       365\n",
      "         1.0       0.50      0.65      0.57       603\n",
      "         2.0       0.41      0.37      0.39       416\n",
      "\n",
      "    accuracy                           0.46      1384\n",
      "   macro avg       0.44      0.42      0.42      1384\n",
      "weighted avg       0.45      0.46      0.45      1384\n",
      "\n",
      "------------------------------------------------------------\n",
      "Performance of the logistic regression model on the test set:\n",
      "              precision    recall  f1-score   support\n",
      "\n",
      "         0.0       0.27      0.14      0.19        98\n",
      "         1.0       0.36      0.56      0.44       128\n",
      "         2.0       0.18      0.13      0.15        91\n",
      "\n",
      "    accuracy                           0.31       317\n",
      "   macro avg       0.27      0.28      0.26       317\n",
      "weighted avg       0.28      0.31      0.28       317\n",
      "\n"
     ]
    }
   ],
   "source": [
    "prediction_train = model_LR.predict(X0_train_std)\n",
    "prediction_test = model_LR.predict(X0_test_std)\n",
    "\n",
    "performance_train = met.classification_report(Y0_train_label, prediction_train)\n",
    "performance_test = met.classification_report(Y0_test_label, prediction_test)\n",
    "\n",
    "print(f'Performance of the logistic regression model on the training set:\\n{performance_train}')\n",
    "print('-'*60)\n",
    "print(f'Performance of the logistic regression model on the test set:\\n{performance_test}')"
   ]
  },
  {
   "cell_type": "markdown",
   "metadata": {},
   "source": [
    "As can be seen in the above results, the performance of the model has improved after using the class weights.\n",
    "However, the performance of a logistic regression model is not that much good to be considered reliable. Although, we can compare the performance of this model with a dummy classifier to better understand the performance of the model."
   ]
  },
  {
   "cell_type": "code",
   "execution_count": 25,
   "metadata": {},
   "outputs": [
    {
     "name": "stdout",
     "output_type": "stream",
     "text": [
      "Performance of the logistic regression model on the training set:\n",
      "              precision    recall  f1-score   support\n",
      "\n",
      "         0.0       0.00      0.00      0.00       365\n",
      "         1.0       0.44      1.00      0.61       603\n",
      "         2.0       0.00      0.00      0.00       416\n",
      "\n",
      "    accuracy                           0.44      1384\n",
      "   macro avg       0.15      0.33      0.20      1384\n",
      "weighted avg       0.19      0.44      0.26      1384\n",
      "\n",
      "------------------------------------------------------------\n",
      "Performance of the logistic regression model on the test set:\n",
      "              precision    recall  f1-score   support\n",
      "\n",
      "         0.0       0.00      0.00      0.00        98\n",
      "         1.0       0.40      1.00      0.58       128\n",
      "         2.0       0.00      0.00      0.00        91\n",
      "\n",
      "    accuracy                           0.40       317\n",
      "   macro avg       0.13      0.33      0.19       317\n",
      "weighted avg       0.16      0.40      0.23       317\n",
      "\n"
     ]
    },
    {
     "name": "stderr",
     "output_type": "stream",
     "text": [
      "c:\\Users\\MIO\\.conda\\envs\\envtf\\lib\\site-packages\\sklearn\\metrics\\_classification.py:1318: UndefinedMetricWarning: Precision and F-score are ill-defined and being set to 0.0 in labels with no predicted samples. Use `zero_division` parameter to control this behavior.\n",
      "  _warn_prf(average, modifier, msg_start, len(result))\n",
      "c:\\Users\\MIO\\.conda\\envs\\envtf\\lib\\site-packages\\sklearn\\metrics\\_classification.py:1318: UndefinedMetricWarning: Precision and F-score are ill-defined and being set to 0.0 in labels with no predicted samples. Use `zero_division` parameter to control this behavior.\n",
      "  _warn_prf(average, modifier, msg_start, len(result))\n",
      "c:\\Users\\MIO\\.conda\\envs\\envtf\\lib\\site-packages\\sklearn\\metrics\\_classification.py:1318: UndefinedMetricWarning: Precision and F-score are ill-defined and being set to 0.0 in labels with no predicted samples. Use `zero_division` parameter to control this behavior.\n",
      "  _warn_prf(average, modifier, msg_start, len(result))\n",
      "c:\\Users\\MIO\\.conda\\envs\\envtf\\lib\\site-packages\\sklearn\\metrics\\_classification.py:1318: UndefinedMetricWarning: Precision and F-score are ill-defined and being set to 0.0 in labels with no predicted samples. Use `zero_division` parameter to control this behavior.\n",
      "  _warn_prf(average, modifier, msg_start, len(result))\n",
      "c:\\Users\\MIO\\.conda\\envs\\envtf\\lib\\site-packages\\sklearn\\metrics\\_classification.py:1318: UndefinedMetricWarning: Precision and F-score are ill-defined and being set to 0.0 in labels with no predicted samples. Use `zero_division` parameter to control this behavior.\n",
      "  _warn_prf(average, modifier, msg_start, len(result))\n",
      "c:\\Users\\MIO\\.conda\\envs\\envtf\\lib\\site-packages\\sklearn\\metrics\\_classification.py:1318: UndefinedMetricWarning: Precision and F-score are ill-defined and being set to 0.0 in labels with no predicted samples. Use `zero_division` parameter to control this behavior.\n",
      "  _warn_prf(average, modifier, msg_start, len(result))\n"
     ]
    }
   ],
   "source": [
    "model_dummy = dm.DummyClassifier(strategy='most_frequent')\n",
    "model_dummy.fit(X0_train_std, Y0_train_label)\n",
    "\n",
    "prediction_train = model_dummy.predict(X0_train_std)\n",
    "prediction_test = model_dummy.predict(X0_test_std)\n",
    "\n",
    "performance_train = met.classification_report(Y0_train_label, prediction_train)\n",
    "performance_test = met.classification_report(Y0_test_label, prediction_test)\n",
    "\n",
    "print(f'Performance of the logistic regression model on the training set:\\n{performance_train}')\n",
    "print('-'*60)\n",
    "print(f'Performance of the logistic regression model on the test set:\\n{performance_test}')\n"
   ]
  },
  {
   "cell_type": "markdown",
   "metadata": {},
   "source": [
    "It can be seen that the performance of the logistic regression is much better than a dummy classifier."
   ]
  },
  {
   "cell_type": "markdown",
   "metadata": {},
   "source": [
    "------\n",
    "#### END"
   ]
  },
  {
   "cell_type": "markdown",
   "metadata": {},
   "source": []
  }
 ],
 "metadata": {
  "kernelspec": {
   "display_name": "Python 3.9.2 ('envtf')",
   "language": "python",
   "name": "python3"
  },
  "language_info": {
   "codemirror_mode": {
    "name": "ipython",
    "version": 3
   },
   "file_extension": ".py",
   "mimetype": "text/x-python",
   "name": "python",
   "nbconvert_exporter": "python",
   "pygments_lexer": "ipython3",
   "version": "3.9.2"
  },
  "orig_nbformat": 4,
  "vscode": {
   "interpreter": {
    "hash": "9ddf6f5be8f1192cf70682edcaa6aaad42b4d7dc59537661b95caff2b632d806"
   }
  }
 },
 "nbformat": 4,
 "nbformat_minor": 2
}
